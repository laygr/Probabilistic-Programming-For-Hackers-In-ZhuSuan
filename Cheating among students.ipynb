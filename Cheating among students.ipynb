{
 "cells": [
  {
   "cell_type": "code",
   "execution_count": 1,
   "metadata": {},
   "outputs": [
    {
     "name": "stderr",
     "output_type": "stream",
     "text": [
      "/Users/laygr/anaconda3/lib/python3.6/site-packages/h5py/__init__.py:36: FutureWarning: Conversion of the second argument of issubdtype from `float` to `np.floating` is deprecated. In future, it will be treated as `np.float64 == np.dtype(float).type`.\n",
      "  from ._conv import register_converters as _register_converters\n"
     ]
    }
   ],
   "source": [
    "import numpy as np\n",
    "from scipy import stats\n",
    "import matplotlib.pyplot as plt\n",
    "import tensorflow as tf\n",
    "from IPython.core.pylabtools import figsize\n",
    "import zhusuan as zs"
   ]
  },
  {
   "cell_type": "code",
   "execution_count": 2,
   "metadata": {},
   "outputs": [],
   "source": [
    "N = 100   # Number of answers for the survey\n",
    "X = 35    # Cheating confessions after coin flips\n",
    "n_ones = tf.ones(N) # Used for broadcasting"
   ]
  },
  {
   "cell_type": "code",
   "execution_count": 3,
   "metadata": {},
   "outputs": [],
   "source": [
    "def logit(p):\n",
    "    return tf.log(p/(1.0-p))"
   ]
  },
  {
   "cell_type": "markdown",
   "metadata": {},
   "source": [
    "## Probabilistic model"
   ]
  },
  {
   "cell_type": "code",
   "execution_count": 4,
   "metadata": {},
   "outputs": [],
   "source": [
    "def create_model(observed):\n",
    "    with zs.BayesianNet(observed=observed) as model:\n",
    "        \n",
    "        cheating_freq = zs.Uniform('cheating_freq', minval=0.0, maxval=1.0, group_ndims=1)\n",
    "        \n",
    "        not_cheated = zs.Bernoulli('not_cheated', logits=n_ones*logit(cheating_freq), group_ndims=1)\n",
    "        first_coin_flips = zs.Bernoulli('first_coin_flips', logits=n_ones*logit(0.5), group_ndims=1)\n",
    "        second_coin_flips = zs.Bernoulli('second_coin_flips', logits=n_ones*logit(0.5), group_ndims=1)\n",
    "        \n",
    "        answers = first_coin_flips * not_cheated + (1 - first_coin_flips) * second_coin_flips\n",
    "        \n",
    "        observed_proportion = tf.cast(tf.reduce_sum(answers)/N, tf.float32)\n",
    "        observations = zs.Binomial('observations', logits=logit(observed_proportion),\n",
    "                                   n_experiments=tf.constant(N), group_ndims=1)\n",
    "    return model"
   ]
  },
  {
   "cell_type": "markdown",
   "metadata": {},
   "source": [
    "## Inference model"
   ]
  },
  {
   "cell_type": "code",
   "execution_count": 5,
   "metadata": {},
   "outputs": [],
   "source": [
    "n_chains = 1\n",
    "n_iters = 4000\n",
    "burnin = 2000\n",
    "n_leapfrogs = 5\n",
    "\n",
    "adapt_step_size = tf.placeholder(tf.bool, shape=[], name=\"adapt_step_size\")\n",
    "adapt_mass = tf.placeholder(tf.bool, shape=[], name=\"adapt_mass\")\n",
    "hmc = zs.HMC(step_size=1e-3, n_leapfrogs=n_leapfrogs, \n",
    "             adapt_step_size=adapt_step_size, adapt_mass=adapt_mass,\n",
    "             target_acceptance_rate=0.9)\n",
    "\n",
    "# I suspect this is wrong\n",
    "def log_joint(observed):\n",
    "    model = create_model(observed)\n",
    "    cf, nc = model.local_log_prob(['cheating_freq', 'not_cheated'])\n",
    "    return cf + nc\n",
    "\n",
    "qcheating_freq = tf.Variable(0.1 * tf.ones([n_chains,1]), trainable=True)\n",
    "obs = tf.constant([35])\n",
    "sample_op, hmc_info = hmc.sample(log_joint, observed={'observations':obs}, latent={'cheating_freq':qcheating_freq})\n"
   ]
  },
  {
   "cell_type": "markdown",
   "metadata": {},
   "source": [
    "## Inference"
   ]
  },
  {
   "cell_type": "code",
   "execution_count": 6,
   "metadata": {},
   "outputs": [
    {
     "name": "stdout",
     "output_type": "stream",
     "text": [
      "Sampling...\n",
      "Sample 0: Acceptance rate = 2.8673980967397483e-09, updated step size = 0.845169723033905\n",
      "Sample 250: Acceptance rate = 0.0, updated step size = 0.0\n",
      "Sample 500: Acceptance rate = 0.0, updated step size = 0.0\n",
      "Sample 750: Acceptance rate = 0.0, updated step size = 0.0\n",
      "Sample 1000: Acceptance rate = 0.0, updated step size = 0.0\n",
      "Sample 1250: Acceptance rate = 0.0, updated step size = 0.0\n",
      "Sample 1500: Acceptance rate = 0.0, updated step size = 0.0\n",
      "Sample 1750: Acceptance rate = 0.0, updated step size = 0.0\n",
      "Sample 2000: Acceptance rate = 0.0, updated step size = 0.0\n",
      "Sample 2250: Acceptance rate = 0.0, updated step size = 0.0\n",
      "Sample 2500: Acceptance rate = 0.0, updated step size = 0.0\n",
      "Sample 2750: Acceptance rate = 0.0, updated step size = 0.0\n",
      "Sample 3000: Acceptance rate = 0.0, updated step size = 0.0\n",
      "Sample 3250: Acceptance rate = 0.0, updated step size = 0.0\n",
      "Sample 3500: Acceptance rate = 0.0, updated step size = 0.0\n",
      "Sample 3750: Acceptance rate = 0.0, updated step size = 0.0\n",
      "Finished.\n"
     ]
    }
   ],
   "source": [
    "# Run the inference\n",
    "\n",
    "with tf.Session() as sess:\n",
    "    sess.run(tf.global_variables_initializer())\n",
    "    samples = []\n",
    "    print('Sampling...')\n",
    "    for i in range(n_iters):\n",
    "        _, fc_sample, acc, ss = sess.run(\n",
    "            [sample_op, hmc_info.samples['cheating_freq'],\n",
    "             hmc_info.acceptance_rate,hmc_info.updated_step_size],\n",
    "            feed_dict={adapt_step_size: i < burnin // 2, adapt_mass: i < burnin // 2}\n",
    "        )\n",
    "        if i % 250 == 0:\n",
    "            print('Sample {}: Acceptance rate = {}, updated step size = {}'\n",
    "                  .format(i, np.mean(acc), ss))\n",
    "        if i >= burnin:\n",
    "            samples.append(fc_sample)\n",
    "    print('Finished.')\n",
    "    samples = np.vstack(samples)"
   ]
  },
  {
   "cell_type": "markdown",
   "metadata": {},
   "source": [
    "## Examining the posterior"
   ]
  },
  {
   "cell_type": "code",
   "execution_count": 7,
   "metadata": {},
   "outputs": [
    {
     "name": "stdout",
     "output_type": "stream",
     "text": [
      "Sample mean = [0.10000002]\n",
      "Sample stdev = [1.4901161e-08]\n"
     ]
    }
   ],
   "source": [
    "# Check the results\n",
    "print('Sample mean = {}'.format(np.mean(samples, 0)))\n",
    "print('Sample stdev = {}'.format(np.std(samples, 0)))"
   ]
  },
  {
   "cell_type": "code",
   "execution_count": 8,
   "metadata": {},
   "outputs": [
    {
     "data": {
      "text/plain": [
       "Text(0.5,1,'Posterior distribution of cheating_freq')"
      ]
     },
     "execution_count": 8,
     "metadata": {},
     "output_type": "execute_result"
    },
    {
     "data": {
      "image/png": "[encoded data removed]",
      "text/plain": [
       "<matplotlib.figure.Figure at 0x10f95f550>"
      ]
     },
     "metadata": {},
     "output_type": "display_data"
    }
   ],
   "source": [
    "# Plot the results\n",
    "figsize(12.5, 10)\n",
    "\n",
    "#histogram of the samples:\n",
    "\n",
    "ax = plt.subplot(311)\n",
    "ax.set_autoscaley_on(True)\n",
    "\n",
    "plt.hist(samples, histtype='stepfilled', bins=50, alpha=0.85,\n",
    "         label=\"posterior of p\", color=\"#A60628\", normed=True)\n",
    "plt.legend(loc=\"upper left\")\n",
    "plt.title(\"Posterior distribution of cheating_freq\")"
   ]
  },
  {
   "cell_type": "code",
   "execution_count": null,
   "metadata": {},
   "outputs": [],
   "source": []
  }
 ],
 "metadata": {
  "kernelspec": {
   "display_name": "Python 3",
   "language": "python",
   "name": "python3"
  },
  "language_info": {
   "codemirror_mode": {
    "name": "ipython",
    "version": 3
   },
   "file_extension": ".py",
   "mimetype": "text/x-python",
   "name": "python",
   "nbconvert_exporter": "python",
   "pygments_lexer": "ipython3",
   "version": "3.6.4"
  }
 },
 "nbformat": 4,
 "nbformat_minor": 2
}
